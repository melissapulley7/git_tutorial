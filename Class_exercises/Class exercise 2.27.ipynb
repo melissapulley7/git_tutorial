{
 "cells": [
  {
   "cell_type": "code",
   "execution_count": 13,
   "id": "d1af5d93",
   "metadata": {},
   "outputs": [
    {
     "name": "stdout",
     "output_type": "stream",
     "text": [
      "way\n",
      "to\n",
      "go\n"
     ]
    }
   ],
   "source": [
    "for word in ('way', 'to', 'go'):\n",
    "    print(word)"
   ]
  },
  {
   "cell_type": "code",
   "execution_count": 17,
   "id": "6bb4afc6",
   "metadata": {
    "scrolled": false
   },
   "outputs": [
    {
     "name": "stdout",
     "output_type": "stream",
     "text": [
      "b\n",
      "e\n",
      "e\n"
     ]
    }
   ],
   "source": [
    "for n, word in enumerate({'blue','green','yellow'}):\n",
    "    print(word[n])"
   ]
  },
  {
   "cell_type": "code",
   "execution_count": 22,
   "id": "fab462be",
   "metadata": {},
   "outputs": [
    {
     "name": "stdout",
     "output_type": "stream",
     "text": [
      "2\n",
      "3\n",
      "4\n",
      "6\n",
      "9\n"
     ]
    },
    {
     "data": {
      "text/plain": [
       "[6, 7, 8, 9]"
      ]
     },
     "execution_count": 22,
     "metadata": {},
     "output_type": "execute_result"
    }
   ],
   "source": [
    "L=[2,3,4,6,9]\n",
    "for x in L: print(x)\n",
    "    \n",
    "[x**2 + 1 for x in range(10)]\n",
    "\n",
    "[num for num in range(10) if num>5]"
   ]
  },
  {
   "cell_type": "code",
   "execution_count": 24,
   "id": "a6125a3f",
   "metadata": {},
   "outputs": [
    {
     "data": {
      "text/plain": [
       "[1, 3, 5, 2, 4, 6, 3, 8, 2]"
      ]
     },
     "execution_count": 24,
     "metadata": {},
     "output_type": "execute_result"
    }
   ],
   "source": [
    "tuplist = [(1,3,5), (2,4,6), (3,8,2)]\n",
    "[n for tup in tuplist for n in tup]"
   ]
  },
  {
   "cell_type": "code",
   "execution_count": 26,
   "id": "63035ba2",
   "metadata": {},
   "outputs": [
    {
     "data": {
      "text/plain": [
       "[(0, 1), (1, 2), (2, 3), (3, 4), (4, 5)]"
      ]
     },
     "execution_count": 26,
     "metadata": {},
     "output_type": "execute_result"
    }
   ],
   "source": [
    "[val for val in zip(range(5), range(1,6))]"
   ]
  },
  {
   "cell_type": "code",
   "execution_count": 27,
   "id": "6f13fa7d",
   "metadata": {},
   "outputs": [
    {
     "data": {
      "text/plain": [
       "False"
      ]
     },
     "execution_count": 27,
     "metadata": {},
     "output_type": "execute_result"
    }
   ],
   "source": [
    "3 in tuplist"
   ]
  }
 ],
 "metadata": {
  "kernelspec": {
   "display_name": "Python 3 (ipykernel)",
   "language": "python",
   "name": "python3"
  },
  "language_info": {
   "codemirror_mode": {
    "name": "ipython",
    "version": 3
   },
   "file_extension": ".py",
   "mimetype": "text/x-python",
   "name": "python",
   "nbconvert_exporter": "python",
   "pygments_lexer": "ipython3",
   "version": "3.11.5"
  }
 },
 "nbformat": 4,
 "nbformat_minor": 5
}
