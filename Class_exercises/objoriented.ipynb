{
 "cells": [
  {
   "cell_type": "markdown",
   "metadata": {},
   "source": [
    "# Object-oriented programming\n",
    "\n",
    "- a **class** is a template for objects\n",
    "- Objects have\n",
    "    - methods (functions)\n",
    "    - attributes (data)\n",
    "\n",
    "all classes must have a construction. This is how objects are created"
   ]
  },
  {
   "cell_type": "code",
   "execution_count": 2,
   "metadata": {},
   "outputs": [],
   "source": [
    "import numpy as np\n",
    "class twodice:\n",
    "    def __init__(self, d1=None,d2=None):\n",
    "        if d1 is None:\n",
    "            self.x = np.random.randint(1,7)\n",
    "        else:\n",
    "            self.x = d1\n",
    "        if d2 is None:\n",
    "            self.y= np.random.randint(1,7)\n",
    "        else:\n",
    "            self.y = d2\n",
    "        self._target_number = np.random.randint(2,13)\n",
    "\n",
    "    def __str__(self):\n",
    "        return 'The dice are {} and {}.'.format(self.x,self.y)\n",
    "\n",
    "\n",
    "    def roll(self):\n",
    "        self.x = np.random.randint(1,7)\n",
    "        self.y = np.random.randint(1,7)\n",
    "\n",
    "    def is_success(self, target):\n",
    "        return self.x + self.y >= target\n",
    "    \n",
    "    @property\n",
    "    def dsum(self):\n",
    "        return self.x + self.y\n",
    "    \n",
    "    @property\n",
    "    def test(self,num):\n",
    "        if num < 7:\n",
    "            self.x = np.random.randint,(1,num)\n",
    "        else:\n",
    "            self.x = np.random.randint(num-6,7)\n",
    "        self.y = num-self.x"
   ]
  },
  {
   "cell_type": "code",
   "execution_count": 6,
   "metadata": {},
   "outputs": [
    {
     "name": "stdout",
     "output_type": "stream",
     "text": [
      "The dice are 4 and 1.\n"
     ]
    },
    {
     "ename": "TypeError",
     "evalue": "twodice.test() missing 1 required positional argument: 'num'",
     "output_type": "error",
     "traceback": [
      "\u001b[1;31m---------------------------------------------------------------------------\u001b[0m",
      "\u001b[1;31mTypeError\u001b[0m                                 Traceback (most recent call last)",
      "Cell \u001b[1;32mIn[6], line 6\u001b[0m\n\u001b[0;32m      2\u001b[0m \u001b[38;5;28mprint\u001b[39m(dice_obj)\n\u001b[0;32m      4\u001b[0m dice_obj\u001b[38;5;241m.\u001b[39mdsum\n\u001b[1;32m----> 6\u001b[0m dice_obj\u001b[38;5;241m.\u001b[39mtest(\u001b[38;5;241m2\u001b[39m)\n",
      "\u001b[1;31mTypeError\u001b[0m: twodice.test() missing 1 required positional argument: 'num'"
     ]
    }
   ],
   "source": [
    "dice_obj = twodice()\n",
    "print(dice_obj)\n",
    "\n",
    "dice_obj.dsum\n",
    "\n",
    "dice_obj.test(2)"
   ]
  }
 ],
 "metadata": {
  "kernelspec": {
   "display_name": "base",
   "language": "python",
   "name": "python3"
  },
  "language_info": {
   "codemirror_mode": {
    "name": "ipython",
    "version": 3
   },
   "file_extension": ".py",
   "mimetype": "text/x-python",
   "name": "python",
   "nbconvert_exporter": "python",
   "pygments_lexer": "ipython3",
   "version": "3.11.5"
  }
 },
 "nbformat": 4,
 "nbformat_minor": 2
}
