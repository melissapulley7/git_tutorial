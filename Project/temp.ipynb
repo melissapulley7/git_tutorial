{
 "cells": [
  {
   "cell_type": "code",
   "execution_count": 1,
   "metadata": {},
   "outputs": [],
   "source": [
    "import numpy as np\n",
    "import pandas as pd\n",
    "import matplotlib\n",
    "import matplotlib.pyplot as plt\n",
    "matplotlib.use('TKAgg')\n",
    "from pylab import *\n",
    "from main import *"
   ]
  },
  {
   "cell_type": "code",
   "execution_count": 2,
   "metadata": {},
   "outputs": [],
   "source": [
    "x,y=get_data()\n",
    "\n",
    "#plt.plot(x,y)\n"
   ]
  },
  {
   "cell_type": "code",
   "execution_count": 6,
   "metadata": {},
   "outputs": [
    {
     "name": "stdout",
     "output_type": "stream",
     "text": [
      "[100 110 120 130 140 150 160 170 180 190 200]\n",
      "[13, 17, 19, 19, 19, 5, 10, 16, 18, 18, 7, 15, 15, 15, 15, 9, 16, 19, 19, 21, 11, 17, 26, 35, 46, 11, 23, 35, 40, 43, 13, 14, 14, 14, 14, 17, 24, 39, 55, 58, 11, 24, 35, 44, 57, 15, 23, 23, 23, 23, 13, 13, 13, 13, 13]\n"
     ]
    },
    {
     "data": {
      "text/plain": [
       "array([100, 110, 120, 130, 140, 150, 160, 170, 180, 190, 200])"
      ]
     },
     "execution_count": 6,
     "metadata": {},
     "output_type": "execute_result"
    }
   ],
   "source": [
    "print(x)\n",
    "print(y)\n",
    "\n",
    "unique(x)"
   ]
  }
 ],
 "metadata": {
  "kernelspec": {
   "display_name": "base",
   "language": "python",
   "name": "python3"
  },
  "language_info": {
   "codemirror_mode": {
    "name": "ipython",
    "version": 3
   },
   "file_extension": ".py",
   "mimetype": "text/x-python",
   "name": "python",
   "nbconvert_exporter": "python",
   "pygments_lexer": "ipython3",
   "version": "3.11.5"
  }
 },
 "nbformat": 4,
 "nbformat_minor": 2
}
