{
 "cells": [
  {
   "cell_type": "code",
   "execution_count": 26,
   "metadata": {},
   "outputs": [],
   "source": [
    "import numpy as np\n",
    "import pandas as pd\n",
    "import matplotlib\n",
    "import matplotlib.pyplot as plt\n",
    "matplotlib.use('TKAgg')\n",
    "from pylab import *\n",
    "from main import *"
   ]
  },
  {
   "cell_type": "code",
   "execution_count": 34,
   "metadata": {},
   "outputs": [],
   "source": [
    "df = pd.DataFrame(columns=['Num_Prey','Num_Prey_Captured'])\n",
    "npc = []\n",
    "\n",
    "for i in range(10):\n",
    "    initialize(num_prey=i)\n",
    "    for n in range(1000):\n",
    "        update()\n",
    "    npc.append(predator.num_prey_captured)\n",
    "    df._append({'Num_Prey': [i], 'Num_Prey_Captured': [predator.num_prey_captured]},ignore_index=True)\n"
   ]
  },
  {
   "cell_type": "code",
   "execution_count": 35,
   "metadata": {},
   "outputs": [
    {
     "name": "stdout",
     "output_type": "stream",
     "text": [
      "[16, 16, 16, 16, 16, 16, 16, 16, 16, 16]\n",
      "Empty DataFrame\n",
      "Columns: [Num_Prey, Num_Prey_Captured]\n",
      "Index: []\n"
     ]
    }
   ],
   "source": [
    "print(npc)\n",
    "print(df)"
   ]
  }
 ],
 "metadata": {
  "kernelspec": {
   "display_name": "base",
   "language": "python",
   "name": "python3"
  },
  "language_info": {
   "codemirror_mode": {
    "name": "ipython",
    "version": 3
   },
   "file_extension": ".py",
   "mimetype": "text/x-python",
   "name": "python",
   "nbconvert_exporter": "python",
   "pygments_lexer": "ipython3",
   "version": "3.11.5"
  }
 },
 "nbformat": 4,
 "nbformat_minor": 2
}
