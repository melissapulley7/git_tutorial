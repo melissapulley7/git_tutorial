{
 "cells": [
  {
   "cell_type": "markdown",
   "metadata": {},
   "source": [
    "# Project"
   ]
  },
  {
   "cell_type": "code",
   "execution_count": 1,
   "metadata": {},
   "outputs": [],
   "source": [
    "import random as rnd\n",
    "import matplotlib\n",
    "matplotlib.use('TKAgg')\n",
    "from pylab import *\n",
    "import pycxsimulator\n",
    "import matplotlib.pyplot as plt\n"
   ]
  },
  {
   "cell_type": "code",
   "execution_count": 2,
   "metadata": {},
   "outputs": [],
   "source": [
    "n = 1000 #number of agents\n",
    "r = 0.1 #neighborhood radius\n",
    "th = 0.5\n",
    "\n",
    "class agent:\n",
    "    pass\n",
    "\n",
    "def initialize():\n",
    "    global agents   \n",
    "    agents = []\n",
    "    for i in range(n):\n",
    "        ag = agent()\n",
    "        ag.type = rnd.randint(0,1)\n",
    "        ag.x = rnd.random()\n",
    "        ag.y = rnd.random()\n",
    "        agents.append(ag)\n",
    "\n",
    "def observe():\n",
    "    global agents\n",
    "    cla()\n",
    "    white = [ag for ag in agents if ag.type == 0]\n",
    "    black = [ag for ag in agents if ag.type == 1]\n",
    "    plt.plot([ag.x for ag in white], [ag.y for ag in white], 'bo')\n",
    "    plt.plot([ag.x for ag in black], [ag.y for ag in black], 'ko')\n",
    "    axis('image')\n",
    "    axis([0,1,0,1])\n",
    "\n",
    "def update():\n",
    "    global agents\n",
    "    ag = agents[rnd.randint(0,n)]\n",
    "    neighbors = [nb for nb in agents if (ag.x-nb.x)**2+(ag.y-nb.y)**2 < r**2 and nb != ag]\n",
    "    if len(neighbors) > 0:\n",
    "        q = len([nb for nb in neighbors if nb.type == ag.type]) \\\n",
    "            / float(len(neighbors))\n",
    "        if q < th:\n",
    "            ag.x, ag.y = random(), random()"
   ]
  },
  {
   "cell_type": "code",
   "execution_count": 3,
   "metadata": {},
   "outputs": [],
   "source": [
    "pycxsimulator.GUI().start(func=[initialize, observe, update])"
   ]
  }
 ],
 "metadata": {
  "kernelspec": {
   "display_name": "base",
   "language": "python",
   "name": "python3"
  },
  "language_info": {
   "codemirror_mode": {
    "name": "ipython",
    "version": 3
   },
   "file_extension": ".py",
   "mimetype": "text/x-python",
   "name": "python",
   "nbconvert_exporter": "python",
   "pygments_lexer": "ipython3",
   "version": "3.11.5"
  }
 },
 "nbformat": 4,
 "nbformat_minor": 2
}
