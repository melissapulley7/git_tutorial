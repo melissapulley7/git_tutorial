{
 "cells": [
  {
   "cell_type": "markdown",
   "metadata": {},
   "source": [
    "# Project"
   ]
  },
  {
   "cell_type": "code",
   "execution_count": 16,
   "metadata": {},
   "outputs": [],
   "source": [
    "import random as rnd\n",
    "import matplotlib\n",
    "matplotlib.use('TKAgg')\n",
    "from pylab import *\n",
    "import pycxsimulator\n",
    "import matplotlib.pyplot as plt"
   ]
  },
  {
   "cell_type": "code",
   "execution_count": 17,
   "metadata": {},
   "outputs": [],
   "source": [
    "n = 10 #number of prey\n",
    "handling_time = 10 #handling time\n",
    "\n",
    "class agent:\n",
    "    pass\n",
    "\n",
    "def initialize():\n",
    "    global pred\n",
    "    pred = agent()\n",
    "    pred.x = 0\n",
    "    pred.y = 0\n",
    "    pred.count_down = handling_time\n",
    "    global prey_all\n",
    "    prey_all = []\n",
    "    for i in range(n):\n",
    "        prey = agent()\n",
    "        prey.x = rnd.randint(-50,50)\n",
    "        prey.y = rnd.randint(-50,50)\n",
    "        prey.captured = 0\n",
    "        prey_all.append(prey)\n",
    "\n",
    "def observe():\n",
    "    global agents\n",
    "    cla()\n",
    "    plt.plot(pred.x, pred.y, 'rv', markersize=10)\n",
    "    plt.plot([prey.x for prey in prey_all], [prey.y for prey in prey_all], 'ko')\n",
    "    axis('image')\n",
    "    axis([-50,50,-50,50])\n",
    "\n",
    "def update():\n",
    "    global pred\n",
    "    global prey_all\n",
    "    if pred.x == prey.x and pred.y==prey.y:\n",
    "        prey.captured = 1\n",
    "        stay\n",
    "    else:\n",
    "        walk()\n",
    "     \n",
    "    prey_captured = [prey for prey in prey_all if pred.x==prey.x and pred.y==prey.y]\n",
    "    \n",
    "\n",
    "def walk():\n",
    "    global pred\n",
    "    if rnd.random() >= 0.5:\n",
    "        pred.x = pred.x + 1\n",
    "    else:\n",
    "        pred.x = pred.x - 1\n",
    "    if rnd.random() >= 0.5:\n",
    "        pred.y = pred.y + 1\n",
    "    else:\n",
    "        pred.y = pred.y - 1\n",
    "\n",
    "def stay():\n",
    "    global pred\n",
    "    pred.count_down = pred.count_down - 1\n",
    "    if count_down == 0:\n",
    "        count_down = handling_time\n",
    "        prey_captured = []\n",
    "        \n",
    "\n"
   ]
  },
  {
   "cell_type": "code",
   "execution_count": 10,
   "metadata": {},
   "outputs": [
    {
     "ename": "NameError",
     "evalue": "name 'pred' is not defined",
     "output_type": "error",
     "traceback": [
      "\u001b[1;31m---------------------------------------------------------------------------\u001b[0m",
      "\u001b[1;31mNameError\u001b[0m                                 Traceback (most recent call last)",
      "Cell \u001b[1;32mIn[10], line 1\u001b[0m\n\u001b[1;32m----> 1\u001b[0m plt\u001b[38;5;241m.\u001b[39mplot(pred\u001b[38;5;241m.\u001b[39mx, pred\u001b[38;5;241m.\u001b[39my, \u001b[38;5;124m'\u001b[39m\u001b[38;5;124mrv\u001b[39m\u001b[38;5;124m'\u001b[39m, markersize\u001b[38;5;241m=\u001b[39m\u001b[38;5;241m10\u001b[39m)\n\u001b[0;32m      2\u001b[0m plt\u001b[38;5;241m.\u001b[39mplot([prey\u001b[38;5;241m.\u001b[39mx \u001b[38;5;28;01mfor\u001b[39;00m prey \u001b[38;5;129;01min\u001b[39;00m prey_all], [prey\u001b[38;5;241m.\u001b[39my \u001b[38;5;28;01mfor\u001b[39;00m prey \u001b[38;5;129;01min\u001b[39;00m prey_all], \u001b[38;5;124m'\u001b[39m\u001b[38;5;124mko\u001b[39m\u001b[38;5;124m'\u001b[39m)\n\u001b[0;32m      3\u001b[0m axis(\u001b[38;5;124m'\u001b[39m\u001b[38;5;124mimage\u001b[39m\u001b[38;5;124m'\u001b[39m)\n",
      "\u001b[1;31mNameError\u001b[0m: name 'pred' is not defined"
     ]
    }
   ],
   "source": [
    "plt.plot(pred.x, pred.y, 'rv', markersize=10)\n",
    "plt.plot([prey.x for prey in prey_all], [prey.y for prey in prey_all], 'ko')\n",
    "axis('image')\n",
    "axis([-50,50,-50,50])\n",
    "\n",
    "initialize()\n",
    "update()\n",
    "\n",
    "walk()\n",
    "pred.x\n",
    "pred.y\n",
    "\n",
    "prey_captured = [prey for prey in prey_all if pred.x==prey.x and pred.y==prey.y]\n",
    "\n",
    "print(prey_captured)\n"
   ]
  },
  {
   "cell_type": "code",
   "execution_count": 11,
   "metadata": {},
   "outputs": [
    {
     "ename": "SyntaxError",
     "evalue": "invalid syntax (1801643768.py, line 2)",
     "output_type": "error",
     "traceback": [
      "\u001b[1;36m  Cell \u001b[1;32mIn[11], line 2\u001b[1;36m\u001b[0m\n\u001b[1;33m    help(global)\u001b[0m\n\u001b[1;37m         ^\u001b[0m\n\u001b[1;31mSyntaxError\u001b[0m\u001b[1;31m:\u001b[0m invalid syntax\n"
     ]
    }
   ],
   "source": [
    "prey_captured = [prey for prey in prey_all if pred.x==prey.x and pred.y==prey.y]\n",
    "help(global)"
   ]
  }
 ],
 "metadata": {
  "kernelspec": {
   "display_name": "base",
   "language": "python",
   "name": "python3"
  },
  "language_info": {
   "codemirror_mode": {
    "name": "ipython",
    "version": 3
   },
   "file_extension": ".py",
   "mimetype": "text/x-python",
   "name": "python",
   "nbconvert_exporter": "python",
   "pygments_lexer": "ipython3",
   "version": "3.11.5"
  }
 },
 "nbformat": 4,
 "nbformat_minor": 2
}
