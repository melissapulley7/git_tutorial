{
 "cells": [
  {
   "cell_type": "code",
   "execution_count": 11,
   "metadata": {},
   "outputs": [],
   "source": [
    "import random as rnd\n",
    "import matplotlib\n",
    "import matplotlib.pyplot as plt\n",
    "matplotlib.use('TKAgg')\n",
    "import pycxsimulator\n",
    "from pylab import *"
   ]
  },
  {
   "cell_type": "code",
   "execution_count": 1,
   "metadata": {},
   "outputs": [],
   "source": [
    "class prey:\n",
    "    '''\n",
    "    Prey class for the type II functional response model. This class creates one prey \n",
    "    and sets the limitations for the 2-D spatial environment.\n",
    "\n",
    "    Parameters\n",
    "    ----------\n",
    "    N : integer, default = 30\n",
    "        length of environment for x and y directions\n",
    "    '''\n",
    "    def __init__(self,N = 16):\n",
    "        self.max_dist = N \n",
    "        self.x = rnd.randint(-self.max_dist,self.max_dist)\n",
    "        self.y = rnd.randint(-self.max_dist,self.max_dist)\n",
    "\n",
    "    def die(self):\n",
    "        '''\n",
    "        This function causes an agent to \"die\", but it reappears somewhere else \n",
    "        to maintain constant density\n",
    "        '''\n",
    "        self.x = rnd.randint(-self.max_dist,self.max_dist)\n",
    "        self.y = rnd.randint(-self.max_dist,self.max_dist)"
   ]
  },
  {
   "cell_type": "code",
   "execution_count": 13,
   "metadata": {},
   "outputs": [],
   "source": [
    "class pred:\n",
    "    '''\n",
    "    Predator class for the type II functional response model. This class creates one predator \n",
    "    and creates functions for its different behaviors. \n",
    "\n",
    "    Parameters\n",
    "    ----------\n",
    "    h_time : integer, default = 10\n",
    "        Length of time spent handling prey (i.e. capturing, consuming, digesting prey)\n",
    "\n",
    "    Attributes    \n",
    "    ----------\n",
    "    x, y : integer\n",
    "        Current location of predator, begins at $(0,0)$\n",
    "    _handling_time : integer\n",
    "        Handling time is set by h_time\n",
    "    count-down : integer\n",
    "        Tracks amount of handling time remaining\n",
    "    num_prey_captured : integer\n",
    "        Tracks number of prey consumed in one simulation\n",
    "\n",
    "    '''\n",
    "    def __init__(self,h_time = 10):\n",
    "        self._handling_time = h_time\n",
    "        self.x = 0                           #x location, starts at 0\n",
    "        self.y = 0\n",
    "        self.count_down = self._handling_time      #time it takes to \"handle\" (capture/consumed) prey, \n",
    "        self.num_prey_captured = 0           #total number of prey captured and consumed.   \n",
    "    \n",
    "    def walk_(self):\n",
    "        if rnd.random() >= 0.5:\n",
    "            if rnd.random() >= 0.5:\n",
    "                self.x = self.x + 1\n",
    "            else:\n",
    "                self.x = self.x - 1\n",
    "        else:\n",
    "            if rnd.random() >= 0.5:\n",
    "                self.y = self.y + 1\n",
    "            else:\n",
    "                self.y = self.y - 1\n",
    "\n",
    "    def eat(self):\n",
    "        self.count_down -= 1\n",
    "        \n",
    "    def finish(self):\n",
    "        if self.count_down == 0:\n",
    "            self.count_down = self._handling_time ##\n",
    "            self.num_prey_captured += 1"
   ]
  },
  {
   "cell_type": "code",
   "execution_count": 14,
   "metadata": {},
   "outputs": [],
   "source": [
    "## To become initialize function\n",
    "def initialize():\n",
    "    global predator\n",
    "    global  prey_all\n",
    "    predator = pred(h_time=10)\n",
    "    prey_all = []\n",
    "    for i in range(100):\n",
    "        #prey_i = prey()\n",
    "        #prey_all.append(prey_i)\n",
    "        prey_all.append(prey())\n"
   ]
  },
  {
   "cell_type": "code",
   "execution_count": 15,
   "metadata": {},
   "outputs": [],
   "source": [
    "## To become observe function\n",
    "def observe():\n",
    "    cla()\n",
    "    plt.plot(predator.x, predator.y, 'rv', markersize=10)\n",
    "    plt.plot([prey.x for prey in prey_all], [prey.y for prey in prey_all], 'ko')\n",
    "    axis('image')\n",
    "    axis([-30,30,-30,30])\n",
    "    plt.show()\n"
   ]
  },
  {
   "cell_type": "code",
   "execution_count": 16,
   "metadata": {},
   "outputs": [],
   "source": [
    "## To become update function\n",
    "def update(r=1):\n",
    "    '''\n",
    "    r is the radius\n",
    "    '''\n",
    "    global prey_captured\n",
    "    prey_captured = [py for py in prey_all if (predator.x-py.x)**2+(predator.y-py.y)**2 < r**2]\n",
    "    #prey_captured = [prey_i for prey_i in prey_all if pred0.x==prey_i.x and pred0.y==prey_i.y]\n",
    "\n",
    "    if prey_captured == []:\n",
    "        predator.walk_()\n",
    "    else:\n",
    "        predator.eat()\n",
    "\n",
    "    if (predator.count_down ==0 and len(prey_captured)) > 0:\n",
    "        predator.finish()\n",
    "        for i in prey_captured:\n",
    "            i.die()\n",
    "        prey_captured = []\n",
    "    \n",
    "\n",
    "    "
   ]
  },
  {
   "cell_type": "code",
   "execution_count": 17,
   "metadata": {},
   "outputs": [],
   "source": [
    "pycxsimulator.GUI().start(func=[initialize, observe, update])"
   ]
  },
  {
   "cell_type": "code",
   "execution_count": 18,
   "metadata": {},
   "outputs": [],
   "source": [
    "initialize()"
   ]
  },
  {
   "cell_type": "code",
   "execution_count": 19,
   "metadata": {},
   "outputs": [],
   "source": [
    "observe()\n",
    "update()"
   ]
  },
  {
   "cell_type": "code",
   "execution_count": 20,
   "metadata": {},
   "outputs": [
    {
     "data": {
      "text/plain": [
       "10"
      ]
     },
     "execution_count": 20,
     "metadata": {},
     "output_type": "execute_result"
    }
   ],
   "source": [
    "\n",
    "predator.count_down\n"
   ]
  }
 ],
 "metadata": {
  "kernelspec": {
   "display_name": "base",
   "language": "python",
   "name": "python3"
  },
  "language_info": {
   "codemirror_mode": {
    "name": "ipython",
    "version": 3
   },
   "file_extension": ".py",
   "mimetype": "text/x-python",
   "name": "python",
   "nbconvert_exporter": "python",
   "pygments_lexer": "ipython3",
   "version": "3.11.5"
  }
 },
 "nbformat": 4,
 "nbformat_minor": 2
}
