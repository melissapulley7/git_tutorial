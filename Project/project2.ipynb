{
 "cells": [
  {
   "cell_type": "code",
   "execution_count": 2,
   "metadata": {},
   "outputs": [],
   "source": [
    "import random as rnd\n",
    "import matplotlib\n",
    "import matplotlib.pyplot as plt\n",
    "matplotlib.use('TKAgg')\n",
    "import pycxsimulator\n",
    "from pylab import *"
   ]
  },
  {
   "cell_type": "code",
   "execution_count": 3,
   "metadata": {},
   "outputs": [],
   "source": [
    "class prey:\n",
    "    def __init__(self,N = 50):\n",
    "        self.max_dist = N\n",
    "        self.x = rnd.randint(-self.max_dist,self.max_dist)\n",
    "        self.y = rnd.randint(-self.max_dist,self.max_dist)\n",
    "\n",
    "    def die(self):\n",
    "        '''\n",
    "        This function causes an agent to \"die\", but it reappears somewhere else \n",
    "        to maintain constant density\n",
    "        '''\n",
    "        self.x = rnd.randint(-self.max_dist,self.max_dist)\n",
    "        self.y = rnd.randint(-self.max_dist,self.max_dist)\n",
    "\n"
   ]
  },
  {
   "cell_type": "code",
   "execution_count": 4,
   "metadata": {},
   "outputs": [],
   "source": [
    "\n",
    "class pred:\n",
    "    def __init__(self,h_time = 10):\n",
    "        self.handling_time = h_time\n",
    "        self.x = 0                           #x location, starts at 0\n",
    "        self.y = 0\n",
    "        #self.handling_time = handling_time                           #y locations, starts at 0\n",
    "        self.count_down = self.handling_time      #time it takes to \"handle\" (capture/consumed) prey, \n",
    "        self.num_prey_captured = 0           #total number of prey captured and consumed.   \n",
    "    \n",
    "    def walk_(self):\n",
    "        if rnd.random() >= 0.5:\n",
    "            if rnd.random() >= 0.5:\n",
    "                self.x = self.x + 1\n",
    "            else:\n",
    "                self.x = self.x - 1\n",
    "        else:\n",
    "            if rnd.random() >= 0.5:\n",
    "                self.y = self.y + 1\n",
    "            else:\n",
    "                self.y = self.y - 1\n",
    "\n",
    "    def eat(self):\n",
    "        self.count_down -= 1\n",
    "        if self.count_down == 0:\n",
    "            self.count_down = self.handling_time ##\n",
    "            self.num_prey_captured += 1"
   ]
  },
  {
   "cell_type": "code",
   "execution_count": null,
   "metadata": {},
   "outputs": [],
   "source": [
    "# prey_all = []\n",
    "# for i in range(100):\n",
    "#    prey_i = prey()\n",
    "#    prey_all.append(prey_i)\n",
    "\n",
    "#pred0 = pred()"
   ]
  },
  {
   "cell_type": "code",
   "execution_count": 5,
   "metadata": {},
   "outputs": [],
   "source": [
    "## To become initialize function\n",
    "def initialize():\n",
    "    pred0 = pred()\n",
    "    prey_all = []\n",
    "    for i in range(10):\n",
    "        prey_i = prey()\n",
    "        prey_all.append(prey_i)\n"
   ]
  },
  {
   "cell_type": "code",
   "execution_count": 6,
   "metadata": {},
   "outputs": [],
   "source": [
    "## To become observe function\n",
    "def observe():\n",
    "    cla()\n",
    "    plt.plot(pred0.x, pred0.y, 'rv', markersize=10)\n",
    "    plt.plot([prey.x for prey in prey_all], [prey.y for prey in prey_all], 'ko')\n",
    "    axis('image')\n",
    "    axis([-50,50,-50,50])\n",
    "    plt.show()\n"
   ]
  },
  {
   "cell_type": "code",
   "execution_count": 7,
   "metadata": {},
   "outputs": [],
   "source": [
    "## To become update function\n",
    "\n",
    "def update(r=1):\n",
    "    '''\n",
    "    r is the radius\n",
    "    '''\n",
    "    prey_captured = [py for py in prey_all if (pred0.x-py.x)**2+(pred0.y-py.y)**2 < r**2]\n",
    "    #prey_captured = [prey_i for prey_i in prey_all if pred0.x==prey_i.x and pred0.y==prey_i.y]\n",
    "\n",
    "    if prey_captured == []:\n",
    "        pred0.walk()\n",
    "    else:\n",
    "        pred0.eat()\n",
    "        if pred0.count_down ==0:\n",
    "            for prey_i in prey_captured:\n",
    "                prey_i.die()\n",
    "                prey_captured = []\n",
    "    "
   ]
  },
  {
   "cell_type": "code",
   "execution_count": 8,
   "metadata": {},
   "outputs": [
    {
     "ename": "NameError",
     "evalue": "name 'pred0' is not defined",
     "output_type": "error",
     "traceback": [
      "\u001b[1;31m---------------------------------------------------------------------------\u001b[0m",
      "\u001b[1;31mNameError\u001b[0m                                 Traceback (most recent call last)",
      "Cell \u001b[1;32mIn[8], line 1\u001b[0m\n\u001b[1;32m----> 1\u001b[0m pycxsimulator\u001b[38;5;241m.\u001b[39mGUI()\u001b[38;5;241m.\u001b[39mstart(func\u001b[38;5;241m=\u001b[39m[initialize, observe, update])\n",
      "File \u001b[1;32mc:\\Users\\mpulley\\python\\git_tutorial\\Project\\pycxsimulator.py:288\u001b[0m, in \u001b[0;36mGUI.start\u001b[1;34m(self, func)\u001b[0m\n\u001b[0;32m    285\u001b[0m         \u001b[38;5;28mself\u001b[39m\u001b[38;5;241m.\u001b[39mtextInformation\u001b[38;5;241m.\u001b[39mconfig(state\u001b[38;5;241m=\u001b[39mDISABLED)\n\u001b[0;32m    287\u001b[0m     \u001b[38;5;28mself\u001b[39m\u001b[38;5;241m.\u001b[39mmodelInitFunc()\n\u001b[1;32m--> 288\u001b[0m     \u001b[38;5;28mself\u001b[39m\u001b[38;5;241m.\u001b[39mdrawModel()     \n\u001b[0;32m    289\u001b[0m \u001b[38;5;28mself\u001b[39m\u001b[38;5;241m.\u001b[39mrootWindow\u001b[38;5;241m.\u001b[39mmainloop()\n",
      "File \u001b[1;32mc:\\Users\\mpulley\\python\\git_tutorial\\Project\\pycxsimulator.py:270\u001b[0m, in \u001b[0;36mGUI.drawModel\u001b[1;34m(self)\u001b[0m\n\u001b[0;32m    268\u001b[0m \u001b[38;5;28;01mif\u001b[39;00m \u001b[38;5;28mself\u001b[39m\u001b[38;5;241m.\u001b[39mmodelFigure \u001b[38;5;241m==\u001b[39m \u001b[38;5;28;01mNone\u001b[39;00m \u001b[38;5;129;01mor\u001b[39;00m \u001b[38;5;28mself\u001b[39m\u001b[38;5;241m.\u001b[39mmodelFigure\u001b[38;5;241m.\u001b[39mcanvas\u001b[38;5;241m.\u001b[39mmanager\u001b[38;5;241m.\u001b[39mwindow \u001b[38;5;241m==\u001b[39m \u001b[38;5;28;01mNone\u001b[39;00m: \n\u001b[0;32m    269\u001b[0m     \u001b[38;5;28mself\u001b[39m\u001b[38;5;241m.\u001b[39mmodelFigure \u001b[38;5;241m=\u001b[39m plt\u001b[38;5;241m.\u001b[39mfigure() \u001b[38;5;66;03m#SM 3/26/2020\u001b[39;00m\n\u001b[1;32m--> 270\u001b[0m \u001b[38;5;28mself\u001b[39m\u001b[38;5;241m.\u001b[39mmodelDrawFunc()\n\u001b[0;32m    271\u001b[0m \u001b[38;5;28mself\u001b[39m\u001b[38;5;241m.\u001b[39mmodelFigure\u001b[38;5;241m.\u001b[39mcanvas\u001b[38;5;241m.\u001b[39mmanager\u001b[38;5;241m.\u001b[39mwindow\u001b[38;5;241m.\u001b[39mupdate()\n\u001b[0;32m    272\u001b[0m plt\u001b[38;5;241m.\u001b[39mshow()\n",
      "Cell \u001b[1;32mIn[6], line 4\u001b[0m, in \u001b[0;36mobserve\u001b[1;34m()\u001b[0m\n\u001b[0;32m      2\u001b[0m \u001b[38;5;28;01mdef\u001b[39;00m \u001b[38;5;21mobserve\u001b[39m():\n\u001b[0;32m      3\u001b[0m     cla()\n\u001b[1;32m----> 4\u001b[0m     plt\u001b[38;5;241m.\u001b[39mplot(pred0\u001b[38;5;241m.\u001b[39mx, pred0\u001b[38;5;241m.\u001b[39my, \u001b[38;5;124m'\u001b[39m\u001b[38;5;124mrv\u001b[39m\u001b[38;5;124m'\u001b[39m, markersize\u001b[38;5;241m=\u001b[39m\u001b[38;5;241m10\u001b[39m)\n\u001b[0;32m      5\u001b[0m     plt\u001b[38;5;241m.\u001b[39mplot([prey\u001b[38;5;241m.\u001b[39mx \u001b[38;5;28;01mfor\u001b[39;00m prey \u001b[38;5;129;01min\u001b[39;00m prey_all], [prey\u001b[38;5;241m.\u001b[39my \u001b[38;5;28;01mfor\u001b[39;00m prey \u001b[38;5;129;01min\u001b[39;00m prey_all], \u001b[38;5;124m'\u001b[39m\u001b[38;5;124mko\u001b[39m\u001b[38;5;124m'\u001b[39m)\n\u001b[0;32m      6\u001b[0m     axis(\u001b[38;5;124m'\u001b[39m\u001b[38;5;124mimage\u001b[39m\u001b[38;5;124m'\u001b[39m)\n",
      "\u001b[1;31mNameError\u001b[0m: name 'pred0' is not defined"
     ]
    },
    {
     "name": "stderr",
     "output_type": "stream",
     "text": [
      "Exception in Tkinter callback\n",
      "Traceback (most recent call last):\n",
      "  File \"c:\\Users\\mpulley\\AppData\\Local\\anaconda3\\Lib\\tkinter\\__init__.py\", line 1948, in __call__\n",
      "    return self.func(*args)\n",
      "           ^^^^^^^^^^^^^^^^\n",
      "  File \"c:\\Users\\mpulley\\AppData\\Local\\anaconda3\\Lib\\tkinter\\__init__.py\", line 861, in callit\n",
      "    func(*args)\n",
      "  File \"c:\\Users\\mpulley\\python\\git_tutorial\\Project\\pycxsimulator.py\", line 240, in stepModel\n",
      "    self.modelStepFunc()\n",
      "  File \"C:\\Users\\mpulley\\AppData\\Local\\Temp\\ipykernel_8376\\1761526655.py\", line 7, in update\n",
      "    prey_captured = [py for py in prey_all if (pred0.x-py.x)**2+(pred0.y-py.y)**2 < r**2]\n",
      "                                  ^^^^^^^^\n",
      "NameError: name 'prey_all' is not defined\n"
     ]
    }
   ],
   "source": [
    "pycxsimulator.GUI().start(func=[initialize, observe, update])"
   ]
  },
  {
   "cell_type": "code",
   "execution_count": null,
   "metadata": {},
   "outputs": [
    {
     "ename": "NameError",
     "evalue": "name 'pred0' is not defined",
     "output_type": "error",
     "traceback": [
      "\u001b[1;31m---------------------------------------------------------------------------\u001b[0m",
      "\u001b[1;31mNameError\u001b[0m                                 Traceback (most recent call last)",
      "Cell \u001b[1;32mIn[18], line 2\u001b[0m\n\u001b[0;32m      1\u001b[0m initialize()\n\u001b[1;32m----> 2\u001b[0m observe()\n\u001b[0;32m      3\u001b[0m \u001b[38;5;28;01mfor\u001b[39;00m t \u001b[38;5;129;01min\u001b[39;00m \u001b[38;5;28mrange\u001b[39m(\u001b[38;5;241m100\u001b[39m):\n\u001b[0;32m      4\u001b[0m     update()\n",
      "Cell \u001b[1;32mIn[15], line 4\u001b[0m, in \u001b[0;36mobserve\u001b[1;34m()\u001b[0m\n\u001b[0;32m      2\u001b[0m \u001b[38;5;28;01mdef\u001b[39;00m \u001b[38;5;21mobserve\u001b[39m():\n\u001b[0;32m      3\u001b[0m     cla()\n\u001b[1;32m----> 4\u001b[0m     plt\u001b[38;5;241m.\u001b[39mplot(pred0\u001b[38;5;241m.\u001b[39mx, pred0\u001b[38;5;241m.\u001b[39my, \u001b[38;5;124m'\u001b[39m\u001b[38;5;124mrv\u001b[39m\u001b[38;5;124m'\u001b[39m, markersize\u001b[38;5;241m=\u001b[39m\u001b[38;5;241m10\u001b[39m)\n\u001b[0;32m      5\u001b[0m     plt\u001b[38;5;241m.\u001b[39mplot([prey\u001b[38;5;241m.\u001b[39mx \u001b[38;5;28;01mfor\u001b[39;00m prey \u001b[38;5;129;01min\u001b[39;00m prey_all], [prey\u001b[38;5;241m.\u001b[39my \u001b[38;5;28;01mfor\u001b[39;00m prey \u001b[38;5;129;01min\u001b[39;00m prey_all], \u001b[38;5;124m'\u001b[39m\u001b[38;5;124mko\u001b[39m\u001b[38;5;124m'\u001b[39m)\n\u001b[0;32m      6\u001b[0m     axis(\u001b[38;5;124m'\u001b[39m\u001b[38;5;124mimage\u001b[39m\u001b[38;5;124m'\u001b[39m)\n",
      "\u001b[1;31mNameError\u001b[0m: name 'pred0' is not defined"
     ]
    }
   ],
   "source": [
    "initialize()\n",
    "observe()\n",
    "for t in range(100):\n",
    "    update()\n",
    "    observe()"
   ]
  }
 ],
 "metadata": {
  "kernelspec": {
   "display_name": "base",
   "language": "python",
   "name": "python3"
  },
  "language_info": {
   "codemirror_mode": {
    "name": "ipython",
    "version": 3
   },
   "file_extension": ".py",
   "mimetype": "text/x-python",
   "name": "python",
   "nbconvert_exporter": "python",
   "pygments_lexer": "ipython3",
   "version": "3.11.5"
  }
 },
 "nbformat": 4,
 "nbformat_minor": 2
}
