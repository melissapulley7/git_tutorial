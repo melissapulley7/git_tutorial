{
 "cells": [
  {
   "cell_type": "code",
   "execution_count": 1,
   "metadata": {},
   "outputs": [],
   "source": [
    "import random as rnd\n",
    "import matplotlib\n",
    "matplotlib.use('TKAgg')\n",
    "from pylab import *\n",
    "import pycxsimulator\n",
    "import matplotlib.pyplot as plt"
   ]
  },
  {
   "cell_type": "code",
   "execution_count": 2,
   "metadata": {},
   "outputs": [],
   "source": [
    "class prey:\n",
    "    def __init__(self,N=50):\n",
    "        self.x = rnd.randint(-N,N)\n",
    "        self.y = rnd.randint(-N,N)\n",
    "\n",
    "    def die(self):\n",
    "        '''\n",
    "        This function causes an agent to \"die\", but it reappears somewhere else \n",
    "        to maintain constant density\n",
    "        '''\n",
    "        self.x = rnd.randint(-N,N)\n",
    "        self.y = rnd.randint(-N,N)"
   ]
  },
  {
   "cell_type": "code",
   "execution_count": 3,
   "metadata": {},
   "outputs": [],
   "source": [
    "class pred:\n",
    "    def __init__(self,handling_time=10):\n",
    "        self.x = 0                           #x location, starts at 0\n",
    "        self.y = 0                           #y locations, starts at 0\n",
    "        self.count_down = handling_time      #time it takes to \"handle\" (capture/consumed) prey, \n",
    "        self.num_prey_captured = 0           #total number of prey captured and consumed. \n",
    "\n",
    "    def walk(self):\n",
    "        if rnd.random() >= 0.5:\n",
    "            self.x = self.x + 1\n",
    "        else:\n",
    "            self.x = self.x - 1\n",
    "        if rnd.random() >= 0.5:\n",
    "            self.y = self.y + 1\n",
    "        else:\n",
    "            self.y = self.y - 1\n",
    "\n",
    "    def eat(self):\n",
    "        self.count_down -= 1\n",
    "        if self.count_down == 0:\n",
    "            self.count_down = handling_time\n",
    "            self.num_prey_captured += 1"
   ]
  },
  {
   "cell_type": "code",
   "execution_count": 4,
   "metadata": {},
   "outputs": [],
   "source": [
    "prey_all = []\n",
    "for i in range(100):\n",
    "    prey_i = prey()\n",
    "    prey_all.append(prey_i)\n",
    "\n",
    "pred0 = pred()"
   ]
  },
  {
   "cell_type": "code",
   "execution_count": 5,
   "metadata": {},
   "outputs": [],
   "source": [
    "## To become initialize function\n",
    "def initialize():\n",
    "    prey_all = []\n",
    "    for i in range(10):\n",
    "        prey_i = prey()\n",
    "        prey_all.append(prey_i)\n",
    "\n",
    "    pred0 = pred()\n"
   ]
  },
  {
   "cell_type": "code",
   "execution_count": 6,
   "metadata": {},
   "outputs": [],
   "source": [
    "## To become observe function\n",
    "def observe():\n",
    "    cla()\n",
    "    plt.plot(pred0.x, pred0.y, 'rv', markersize=10)\n",
    "    plt.plot([prey.x for prey in prey_all], [prey.y for prey in prey_all], 'ko')\n",
    "    axis('image')\n",
    "    axis([-50,50,-50,50])\n",
    "    plt.show()\n"
   ]
  },
  {
   "cell_type": "code",
   "execution_count": 7,
   "metadata": {},
   "outputs": [],
   "source": [
    "## To become update function\n",
    "\n",
    "def update(r=1):\n",
    "    '''\n",
    "    r is the radius\n",
    "    '''\n",
    "    prey_captured = [py for py in prey_all if (pred0.x-py.x)**2+(pred0.y-py.y)**2 < r**2]\n",
    "    #prey_captured = [prey_i for prey_i in prey_all if pred0.x==prey_i.x and pred0.y==prey_i.y]\n",
    "\n",
    "    if prey_captured == []:\n",
    "        pred0.walk()\n",
    "    else:\n",
    "        pred0.eat()\n",
    "        if pred0.count_down ==0:\n",
    "            for prey_i in prey_captured:\n",
    "                prey_i.die()\n",
    "                prey_captured = []\n",
    "    "
   ]
  },
  {
   "cell_type": "code",
   "execution_count": 8,
   "metadata": {},
   "outputs": [
    {
     "name": "stderr",
     "output_type": "stream",
     "text": [
      "Exception in Tkinter callback\n",
      "Traceback (most recent call last):\n",
      "  File \"c:\\Users\\mpulley\\AppData\\Local\\anaconda3\\Lib\\tkinter\\__init__.py\", line 1948, in __call__\n",
      "    return self.func(*args)\n",
      "           ^^^^^^^^^^^^^^^^\n",
      "  File \"c:\\Users\\mpulley\\AppData\\Local\\anaconda3\\Lib\\tkinter\\__init__.py\", line 861, in callit\n",
      "    func(*args)\n",
      "  File \"c:\\Users\\mpulley\\python\\Project\\pycxsimulator.py\", line 240, in stepModel\n",
      "    self.modelStepFunc()\n",
      "  File \"C:\\Users\\mpulley\\AppData\\Local\\Temp\\ipykernel_34656\\1761526655.py\", line 13, in update\n",
      "    pred0.eat()\n",
      "  File \"C:\\Users\\mpulley\\AppData\\Local\\Temp\\ipykernel_34656\\1696818071.py\", line 21, in eat\n",
      "    self.count_down = handling_time\n",
      "                      ^^^^^^^^^^^^^\n",
      "NameError: name 'handling_time' is not defined\n"
     ]
    }
   ],
   "source": [
    "pycxsimulator.GUI().start(func=[initialize, observe, update])"
   ]
  }
 ],
 "metadata": {
  "kernelspec": {
   "display_name": "base",
   "language": "python",
   "name": "python3"
  },
  "language_info": {
   "codemirror_mode": {
    "name": "ipython",
    "version": 3
   },
   "file_extension": ".py",
   "mimetype": "text/x-python",
   "name": "python",
   "nbconvert_exporter": "python",
   "pygments_lexer": "ipython3",
   "version": "3.11.5"
  }
 },
 "nbformat": 4,
 "nbformat_minor": 2
}
